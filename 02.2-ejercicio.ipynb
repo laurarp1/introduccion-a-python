{
 "cells": [
  {
   "cell_type": "code",
   "execution_count": 41,
   "metadata": {},
   "outputs": [
    {
     "name": "stdout",
     "output_type": "stream",
     "text": [
      "l: [57, 52, 50, 15, 70, 17, 89, 51, 2, 31, 26, 31, 3, 82, 4, 23, 95, 84, 48, 68, 5, 80, 90, 10, 33, 96, 3, 74, 28, 0, 26, 11, 80, 73, 91, 84, 10, 29, 8, 97, 94, 79, 60, 65, 79, 45, 51, 20, 43, 6, 18, 1, 2, 92, 9, 15, 11, 35, 77, 75, 55, 80, 42, 19, 41, 64, 61, 62, 34, 67, 18, 48, 79, 72, 99, 9, 80, 2, 94, 71, 8, 22, 81, 70, 55, 34, 44, 26, 64, 63, 42, 6, 58, 57, 15, 77, 6, 11, 59, 29]\n",
      "\n",
      "m: [95, 59, 99, 21, 95, 48, 36, 57, 97, 81, 63, 5, 13, 41, 26, 9, 13, 64, 81, 17, 20, 67, 81, 39, 28, 54, 61, 3, 50, 22, 86, 47, 58, 72, 48, 60, 38, 10, 52, 27, 2, 93, 9, 58, 21, 60, 7, 8, 71, 26, 35, 69, 28, 60, 37, 0, 17, 44, 89, 63, 61, 39, 47, 19, 46, 82, 74, 59, 9, 81, 34, 7, 96, 53, 76, 15, 5, 0, 24, 70, 22, 24, 20, 19, 5, 91, 72, 79, 40, 85, 53, 59, 1, 88, 10, 46, 44, 5, 27, 60]\n",
      "Mi nueva lista es: [52, 17, 51, 31, 31, 82, 4, 23, 84, 68, 80, 90, 33, 3, 28, 11, 80, 73, 84, 29, 97, 94, 60, 65, 45, 51, 43, 6, 18, 92, 15, 11, 77, 75, 55, 80, 42, 41, 61, 62, 67, 18, 79, 99, 80, 2, 94, 8, 81, 55, 44, 26, 64, 42, 6, 57, 15, 77, 6, 11, 29]\n"
     ]
    },
    {
     "data": {
      "text/plain": [
       "-39"
      ]
     },
     "execution_count": 41,
     "metadata": {},
     "output_type": "execute_result"
    }
   ],
   "source": [
    "# Escribir el codigo necesario para generar una lista que contenga\n",
    "# los elementos de l que no están en m\n",
    "\n",
    "import random\n",
    "\n",
    "l = [int(100*random.random()) for i in range(100)]\n",
    "m = [int(100*random.random()) for i in range(100)]\n",
    "\n",
    "print(\"l:\", l)\n",
    "print()\n",
    "print(\"m:\", m)\n",
    "\n",
    "# Escribe aquí el código\n",
    "for i in l:\n",
    "    if i in m:\n",
    "        l.remove(i)\n",
    "print(\"Mi nueva lista es:\",l)\n",
    "l == list(set(l).difference(l))\n",
    "\n",
    "\n",
    "\n"
   ]
  },
  {
   "cell_type": "code",
   "execution_count": 51,
   "metadata": {},
   "outputs": [
    {
     "name": "stdout",
     "output_type": "stream",
     "text": [
      "l: [70, 71, 90, 63, 90, 33, 2, 33, 14, 6, 82, 46, 86, 98, 84, 73, 38, 5, 63, 26, 31, 26, 37, 75, 41, 41, 46, 7, 55, 20, 96, 40, 40, 75, 84, 46, 71, 48, 15, 37, 42, 82, 31, 58, 45, 57, 93, 98, 91, 80, 98, 79, 43, 91, 94, 53, 31, 76, 78, 53, 69, 71, 83, 57, 97, 22, 32, 76, 15, 38, 2, 31, 96, 91, 22, 24, 20, 28, 51, 54, 27, 56, 15, 45, 33, 65, 62, 27, 30, 43, 97, 67, 60, 0, 63, 70, 0, 46, 58, 97]\n",
      "100\n",
      "\n",
      "m: [66, 73, 0, 47, 61, 65, 94, 25, 15, 14, 43, 38, 8, 72, 16, 10, 88, 53, 59, 46, 90, 54, 50, 70, 11, 44, 82, 98, 88, 95, 88, 69, 75, 71, 14, 39, 96, 14, 39, 80, 53, 75, 42, 68, 26, 28, 25, 77, 63, 28, 84, 13, 73, 82, 57, 47, 0, 9, 40, 90, 93, 17, 14, 69, 94, 32, 48, 54, 77, 53, 92, 37, 55, 45, 30, 43, 47, 1, 55, 7, 49, 64, 20, 67, 99, 81, 73, 8, 50, 20, 53, 51, 17, 59, 17, 36, 55, 82, 2, 77]\n",
      "Mi nueva lista es: [33, 33, 6, 86, 38, 5, 63, 31, 26, 37, 41, 41, 7, 40, 75, 84, 46, 48, 37, 82, 31, 58, 98, 91, 98, 79, 91, 31, 76, 78, 53, 69, 71, 83, 57, 97, 22, 76, 38, 31, 91, 22, 24, 20, 28, 54, 27, 56, 45, 33, 62, 27, 43, 97, 60, 63, 0, 46, 58, 97]\n",
      "60\n"
     ]
    },
    {
     "data": {
      "text/plain": [
       "False"
      ]
     },
     "execution_count": 51,
     "metadata": {},
     "output_type": "execute_result"
    }
   ],
   "source": [
    "# Escribir el codigo necesario para generar una lista que contenga\n",
    "# los elementos de l que no están en m\n",
    "\n",
    "import random\n",
    "\n",
    "l = [int(100*random.random()) for i in range(100)]\n",
    "m = [int(100*random.random()) for i in range(100)]\n",
    "\n",
    "print(\"l:\", l)\n",
    "print(len(l))\n",
    "print()\n",
    "print(\"m:\", m)\n",
    "\n",
    "# Escribe aquí el código\n",
    "for i in l:\n",
    "    if i in m:\n",
    "        l.remove(i)\n",
    "print(\"Mi nueva lista es:\",l)\n",
    "print(len(l))\n",
    "l == list(set(l).difference(l))\n",
    "#está mal\n",
    "\n",
    "\n"
   ]
  },
  {
   "cell_type": "code",
   "execution_count": 92,
   "metadata": {},
   "outputs": [
    {
     "ename": "TypeError",
     "evalue": "'int' object is not iterable",
     "output_type": "error",
     "traceback": [
      "\u001b[0;31m---------------------------------------------------------------------------\u001b[0m",
      "\u001b[0;31mTypeError\u001b[0m                                 Traceback (most recent call last)",
      "\u001b[0;32m<ipython-input-92-e16bc16249a9>\u001b[0m in \u001b[0;36m<module>\u001b[0;34m()\u001b[0m\n\u001b[1;32m      8\u001b[0m \u001b[0mfib\u001b[0m\u001b[0;34m[\u001b[0m\u001b[0;36m1\u001b[0m\u001b[0;34m]\u001b[0m \u001b[0;34m=\u001b[0m \u001b[0;36m1\u001b[0m\u001b[0;34m\u001b[0m\u001b[0m\n\u001b[1;32m      9\u001b[0m \u001b[0;32mwhile\u001b[0m \u001b[0mi\u001b[0m \u001b[0;34m<=\u001b[0m\u001b[0mn\u001b[0m\u001b[0;34m:\u001b[0m\u001b[0;34m\u001b[0m\u001b[0m\n\u001b[0;32m---> 10\u001b[0;31m     \u001b[0mfib\u001b[0m\u001b[0;34m.\u001b[0m\u001b[0mappend\u001b[0m\u001b[0;34m(\u001b[0m\u001b[0msum\u001b[0m\u001b[0;34m(\u001b[0m\u001b[0mfib\u001b[0m\u001b[0;34m[\u001b[0m\u001b[0mi\u001b[0m\u001b[0;34m-\u001b[0m\u001b[0;36m1\u001b[0m\u001b[0;34m]\u001b[0m \u001b[0;34m+\u001b[0m \u001b[0mfib\u001b[0m\u001b[0;34m[\u001b[0m\u001b[0mi\u001b[0m\u001b[0;34m-\u001b[0m\u001b[0;36m2\u001b[0m\u001b[0;34m]\u001b[0m\u001b[0;34m)\u001b[0m\u001b[0;34m)\u001b[0m\u001b[0;34m\u001b[0m\u001b[0m\n\u001b[0m\u001b[1;32m     11\u001b[0m     \u001b[0mi\u001b[0m\u001b[0;34m+=\u001b[0m\u001b[0;36m1\u001b[0m\u001b[0;34m\u001b[0m\u001b[0m\n\u001b[1;32m     12\u001b[0m \u001b[0;32melse\u001b[0m\u001b[0;34m:\u001b[0m\u001b[0;34m\u001b[0m\u001b[0m\n",
      "\u001b[0;31mTypeError\u001b[0m: 'int' object is not iterable"
     ]
    }
   ],
   "source": [
    "# Escribir el código necesario para calcular la sucesión de Fibonacci\n",
    "# para los \"n\" primeros términos, utilizando el esqueleto siguiente\n",
    "\n",
    "n = 20\n",
    "i = 2\n",
    "fib = [0, 1]  # Los dos primeros valores de la sucesión.\n",
    "fib[0] = 0\n",
    "fib[1] = 1\n",
    "while i <=n:   \n",
    "    fib.append(sum(fib[i-1] + fib[i-2]))\n",
    "    i+=1\n",
    "else:\n",
    "    None\n",
    "print(\"El fibonacci\",n,\"es:\",fib)\n",
    "\n",
    "#está mal\n"
   ]
  },
  {
   "cell_type": "code",
   "execution_count": 91,
   "metadata": {},
   "outputs": [
    {
     "data": {
      "text/plain": [
       "5"
      ]
     },
     "execution_count": 91,
     "metadata": {},
     "output_type": "execute_result"
    }
   ],
   "source": [
    "sum([2] + [3])"
   ]
  },
  {
   "cell_type": "code",
   "execution_count": 76,
   "metadata": {},
   "outputs": [
    {
     "name": "stdout",
     "output_type": "stream",
     "text": [
      "6765\n"
     ]
    }
   ],
   "source": [
    "def seriedefibonacci(n):\n",
    "    if n == 0:\n",
    "        return 0\n",
    "    if n == 1:\n",
    "        return 1\n",
    "    return seriedefibonacci(n-2) + seriedefibonacci(n-1)\n",
    "print(seriedefibonacci(20))\n",
    "    "
   ]
  },
  {
   "cell_type": "code",
   "execution_count": 11,
   "metadata": {},
   "outputs": [
    {
     "name": "stdout",
     "output_type": "stream",
     "text": [
      "I will cheer for you! Enter a word: hola\n",
      "Enthusiasm level (1-10): 2\n",
      "Give me an h! h\n",
      "Give me an o! o\n",
      "Give me an l! l\n",
      "Give me an a! a\n",
      "What does that spell?\n",
      "hola !!!\n",
      "hola !!!\n"
     ]
    }
   ],
   "source": [
    "\n",
    "an_letters = \"aefhilmnorsxAEFHILMNORSX\"\n",
    "word = input(\"I will cheer for you! Enter a word: \")  # Input nos pide que introduzcamos un valor por consola\n",
    "times = int(input(\"Enthusiasm level (1-10): \"))  # El valor es siempre un string, pero necesitamos un entero,\n",
    "                                                 # \"int()\" lo convierte a entero\n",
    "\n",
    "for i in range(0,len(word)):\n",
    "    char = word[i]\n",
    "    if char in an_letters:\n",
    "        print(\"Give me an \" + char + \"! \" + char)\n",
    "    else:\n",
    "        print(\"Give me a  \" + char + \"! \" + char)\n",
    "print(\"What does that spell?\")\n",
    "for i in range(times):\n",
    "    print(word, \"!!!\")"
   ]
  },
  {
   "cell_type": "code",
   "execution_count": 9,
   "metadata": {},
   "outputs": [
    {
     "name": "stdout",
     "output_type": "stream",
     "text": [
      "I will cheer for you! Enter a word: la\n",
      "Enthusiasm level (1-10): 10\n",
      "Give me an l! l\n",
      "Give me an a! a\n",
      "What does that spell?\n",
      "la !!!\n",
      "la !!!\n",
      "la !!!\n",
      "la !!!\n",
      "la !!!\n",
      "la !!!\n",
      "la !!!\n",
      "la !!!\n",
      "la !!!\n",
      "la !!!\n"
     ]
    }
   ],
   "source": [
    "# El siguiente código hace uso de un bucle while, cuando\n",
    "# no es necesario. Escribir el código utilizando un bucle for\n",
    "\n",
    "an_letters = \"aefhilmnorsxAEFHILMNORSX\"\n",
    "word = input(\"I will cheer for you! Enter a word: \")  # Input nos pide que introduzcamos un valor por consola\n",
    "times = int(input(\"Enthusiasm level (1-10): \"))  # El valor es siempre un string, pero necesitamos un entero,\n",
    "                                                 # \"int()\" lo convierte a entero\n",
    "\n",
    "i = 0\n",
    "while i< len(word):\n",
    "    char = word[i]\n",
    "    if char in an_letters:\n",
    "        print(\"Give me an \" + char + \"! \" + char)\n",
    "    else:\n",
    "        print(\"Give me a  \" + char + \"! \" + char)\n",
    "    i += 1\n",
    "print(\"What does that spell?\")\n",
    "for i in range(times):\n",
    "    print(word, \"!!!\")"
   ]
  },
  {
   "cell_type": "code",
   "execution_count": 24,
   "metadata": {},
   "outputs": [
    {
     "name": "stdout",
     "output_type": "stream",
     "text": [
      "l: [1, 2, 3, 4, 5]\n",
      "m: [5, 4, 3, 2, 1]\n"
     ]
    }
   ],
   "source": [
    "# El siguiente código debería crear una lista \"m\"\n",
    "# que contiene los elemenos de \"l\" en orden inverso,\n",
    "# pero contiene errores.\n",
    "\n",
    "l = [1, 2, 3, 4, 5]\n",
    "\n",
    "for i in range(len(m)):\n",
    "    j = len(m) - i-1\n",
    "   # m[i] = temp\n",
    "    m[i] = l[j]\n",
    "    #m[j] = m[i]\n",
    "    \n",
    "print(\"l:\", l)\n",
    "print(\"m:\", m)\n",
    "\n"
   ]
  },
  {
   "cell_type": "code",
   "execution_count": 28,
   "metadata": {},
   "outputs": [
    {
     "name": "stdout",
     "output_type": "stream",
     "text": [
      "l: [1, 2, 3, 4, 5]\n",
      "m: [5, 4, 3, 2, 1]\n"
     ]
    }
   ],
   "source": [
    "# El siguiente código debería crear una lista \"m\"\n",
    "# que contiene los elemenos de \"l\" en orden inverso,\n",
    "# pero contiene errores.\n",
    "\n",
    "l = [1, 2, 3, 4, 5]\n",
    "m = l[:]\n",
    "for i in range(len(m)//2):\n",
    "    j = len(m) - i-1\n",
    "    temp = m[i]\n",
    "    m[i] = m[j]\n",
    "    m[j] = temp\n",
    "    \n",
    "print(\"l:\", l)\n",
    "print(\"m:\", m)"
   ]
  },
  {
   "cell_type": "code",
   "execution_count": 39,
   "metadata": {},
   "outputs": [
    {
     "name": "stdout",
     "output_type": "stream",
     "text": [
      "[2, 3, 5, 7, 11, 13, 17, 19, 23, 29]\n"
     ]
    }
   ],
   "source": [
    "###########################este está bien####################\n",
    "\n",
    "\n",
    "# El siguiente código debería obtener los números primos que\n",
    "# existan hasta \"n\", incluyendo \"n\", pero contiene errores.\n",
    "\n",
    "n = 30\n",
    "\n",
    "# Inicializo la lista de numeros primos\n",
    "primos = [2] \n",
    "\n",
    " # Itero sobre los numeros\n",
    "for i in range(2,n+1):\n",
    "    # go through each of 2...n\n",
    "    for j in primos:\n",
    "        # check if not divisible by elem of list\n",
    "        if i % j == 0:\n",
    "            break\n",
    "    else:\n",
    "            primos.append(i)\n",
    "print(primos)\n",
    "            "
   ]
  },
  {
   "cell_type": "code",
   "execution_count": 77,
   "metadata": {},
   "outputs": [
    {
     "ename": "TypeError",
     "evalue": "object of type 'int' has no len()",
     "output_type": "error",
     "traceback": [
      "\u001b[0;31m---------------------------------------------------------------------------\u001b[0m",
      "\u001b[0;31mTypeError\u001b[0m                                 Traceback (most recent call last)",
      "\u001b[0;32m<ipython-input-77-3e32ff0b76b3>\u001b[0m in \u001b[0;36m<module>\u001b[0;34m()\u001b[0m\n\u001b[1;32m     12\u001b[0m \u001b[0;32mfor\u001b[0m \u001b[0mi\u001b[0m \u001b[0;32min\u001b[0m \u001b[0mrange\u001b[0m\u001b[0;34m(\u001b[0m\u001b[0mlen\u001b[0m\u001b[0;34m(\u001b[0m\u001b[0mprimos\u001b[0m\u001b[0;34m)\u001b[0m\u001b[0;34m)\u001b[0m\u001b[0;34m:\u001b[0m\u001b[0;34m\u001b[0m\u001b[0m\n\u001b[1;32m     13\u001b[0m     \u001b[0;31m# go through each of 2...n\u001b[0m\u001b[0;34m\u001b[0m\u001b[0;34m\u001b[0m\u001b[0m\n\u001b[0;32m---> 14\u001b[0;31m     \u001b[0;32mfor\u001b[0m \u001b[0mj\u001b[0m \u001b[0;32min\u001b[0m \u001b[0mrange\u001b[0m\u001b[0;34m(\u001b[0m\u001b[0mlen\u001b[0m\u001b[0;34m(\u001b[0m\u001b[0mn\u001b[0m\u001b[0;34m)\u001b[0m\u001b[0;34m)\u001b[0m\u001b[0;34m:\u001b[0m\u001b[0;34m\u001b[0m\u001b[0m\n\u001b[0m\u001b[1;32m     15\u001b[0m         \u001b[0;31m# check if not divisible by elem of list\u001b[0m\u001b[0;34m\u001b[0m\u001b[0;34m\u001b[0m\u001b[0m\n\u001b[1;32m     16\u001b[0m         \u001b[0;32mif\u001b[0m \u001b[0mi\u001b[0m \u001b[0;34m%\u001b[0m \u001b[0mj\u001b[0m \u001b[0;34m!=\u001b[0m \u001b[0;36m0\u001b[0m\u001b[0;34m:\u001b[0m\u001b[0;34m\u001b[0m\u001b[0m\n",
      "\u001b[0;31mTypeError\u001b[0m: object of type 'int' has no len()"
     ]
    }
   ],
   "source": [
    "###############este está mal#################\n",
    "# El siguiente código debería obtener los números primos que\n",
    "# existan hasta \"n\", incluyendo \"n\", pero contiene errores.\n",
    "\n",
    "n = 30\n",
    "\n",
    "# Inicializo la lista de numeros primos\n",
    "if i == 2:\n",
    "    primos.append(2)\n",
    " \n",
    "\n",
    " # Itero sobre los numeros\n",
    "for i in range(len(primos)):\n",
    "    # go through each of 2...n\n",
    "    for j in range(len(n)):\n",
    "        # check if not divisible by elem of list\n",
    "        if i % j != 0:\n",
    "            primos.append(i)"
   ]
  },
  {
   "cell_type": "code",
   "execution_count": null,
   "metadata": {},
   "outputs": [],
   "source": []
  }
 ],
 "metadata": {
  "kernelspec": {
   "display_name": "Python 3",
   "language": "python",
   "name": "python3"
  },
  "language_info": {
   "codemirror_mode": {
    "name": "ipython",
    "version": 3
   },
   "file_extension": ".py",
   "mimetype": "text/x-python",
   "name": "python",
   "nbconvert_exporter": "python",
   "pygments_lexer": "ipython3",
   "version": "3.6.5"
  }
 },
 "nbformat": 4,
 "nbformat_minor": 2
}
