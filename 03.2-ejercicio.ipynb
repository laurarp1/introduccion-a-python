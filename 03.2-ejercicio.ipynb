{
 "cells": [
  {
   "cell_type": "markdown",
   "metadata": {},
   "source": [
    "El siguiente programa imprime por pantalla las palabras más frecuentes\n",
    "que se encuentre en una cadena de caracteres, en este caso una canción.\n",
    "Sin embargo, tiene varios errores, tanto de sintaxis, como de ejecución,\n",
    "como de funcionalidad."
   ]
  },
  {
   "cell_type": "code",
   "execution_count": 4,
   "metadata": {},
   "outputs": [],
   "source": [
    "lyrics = \"\"\"Ay\n",
    "Fonsi\n",
    "DY\n",
    "Oh\n",
    "Oh no, oh no\n",
    "Oh yeah\n",
    "Diridiri, dirididi Daddy\n",
    "Go\n",
    "Sí, sabes que ya llevo un rato mirándote\n",
    "Tengo que bailar contigo hoy (DY)\n",
    "Vi que tu mirada ya estaba llamándome\n",
    "Muéstrame el camino que yo voy (Oh)\n",
    "Tú, tú eres el imán y yo soy el metal\n",
    "Me voy acercando y voy armando el plan\n",
    "Solo con pensarlo se acelera el pulso (Oh yeah)\n",
    "Ya, ya me está gustando más de lo normal\n",
    "Todos mis sentidos van pidiendo más\n",
    "Esto hay que tomarlo sin ningún apuro\n",
    "Despacito\n",
    "Quiero respirar tu cuello despacito\n",
    "Deja que te diga cosas al oído\n",
    "Para que te acuerdes si no estás conmigo\n",
    "Despacito\n",
    "Quiero desnudarte a besos despacito\n",
    "Firmo en las paredes de tu laberinto\n",
    "Y hacer de tu cuerpo todo un manuscrito (sube, sube, sube)\n",
    "(Sube, sube)\n",
    "Quiero ver bailar tu pelo\n",
    "Quiero ser tu ritmo\n",
    "Que le enseñes a mi boca\n",
    "Tus lugares favoritos (favoritos, favoritos baby)\n",
    "Déjame sobrepasar tus zonas de peligro\n",
    "Hasta provocar tus gritos\n",
    "Y que olvides tu apellido (Diridiri, dirididi Daddy)\n",
    "Si te pido un beso ven dámelo\n",
    "Yo sé que estás pensándolo\n",
    "Llevo tiempo intentándolo\n",
    "Mami, esto es dando y dándolo\n",
    "Sabes que tu corazón conmigo te hace bom, bom\n",
    "Sabes que esa beba está buscando de mi bom, bom\n",
    "Ven prueba de mi boca para ver cómo te sabe\n",
    "Quiero, quiero, quiero ver cuánto amor a ti te cabe\n",
    "Yo no tengo prisa, yo me quiero dar el viaje\n",
    "Empecemos lento, después salvaje\n",
    "Pasito a pasito, suave suavecito\n",
    "Nos vamos pegando poquito a poquito\n",
    "Cuando tú me besas con esa destreza\n",
    "Veo que eres malicia con delicadeza\n",
    "Pasito a pasito, suave suavecito\n",
    "Nos vamos pegando, poquito a poquito\n",
    "Y es que esa belleza es un rompecabezas\n",
    "Pero pa montarlo aquí tengo la pieza\n",
    "Despacito\n",
    "Quiero respirar tu cuello despacito\n",
    "Deja que te diga cosas al oído\n",
    "Para que te acuerdes si no estás conmigo\n",
    "Despacito\n",
    "Quiero desnudarte a besos despacito\n",
    "Firmo en las paredes de tu laberinto\n",
    "Y hacer de tu cuerpo todo un manuscrito (sube, sube, sube)\n",
    "(Sube, sube)\n",
    "Quiero ver bailar tu pelo\n",
    "Quiero ser tu ritmo\n",
    "Que le enseñes a mi boca\n",
    "Tus lugares favoritos (favoritos, favoritos baby)\n",
    "Déjame sobrepasar tus zonas de peligro\n",
    "Hasta provocar tus gritos\n",
    "Y que olvides tu apellido\n",
    "Despacito\n",
    "Vamos a hacerlo en una playa en Puerto Rico\n",
    "Hasta que las olas griten \"¡ay, bendito!\"\n",
    "Para que mi sello se quede contigo\n",
    "Pasito a pasito, suave suavecito\n",
    "Nos vamos pegando, poquito a poquito\n",
    "Que le enseñes a mi boca\n",
    "Tus lugares favoritos (favoritos, favoritos baby)\n",
    "Pasito a pasito, suave suavecito\n",
    "Nos vamos pegando, poquito a poquito\n",
    "Hasta provocar tus gritos\n",
    "Y que olvides tu apellido (DY)\n",
    "Despacito\n",
    "\"\"\""
   ]
  },
  {
   "cell_type": "code",
   "execution_count": 39,
   "metadata": {},
   "outputs": [
    {
     "name": "stdout",
     "output_type": "stream",
     "text": [
      "['ay', 'fonsi', 'dy', 'oh', 'oh', 'no', 'oh', 'no', 'oh', 'yeah', 'diridiri', 'dirididi', 'daddy', 'go', 'sí', 'sabes', 'que', 'ya', 'llevo', 'un', 'rato', 'mirándote', 'tengo', 'que', 'bailar', 'contigo', 'hoy', 'dy', 'vi', 'que', 'tu', 'mirada', 'ya', 'estaba', 'llamándome', 'muéstrame', 'el', 'camino', 'que', 'yo', 'voy', 'oh', 'tú', 'tú', 'eres', 'el', 'imán', 'y', 'yo', 'soy', 'el', 'metal', 'me', 'voy', 'acercando', 'y', 'voy', 'armando', 'el', 'plan', 'solo', 'con', 'pensarlo', 'se', 'acelera', 'el', 'pulso', 'oh', 'yeah', 'ya', 'ya', 'me', 'está', 'gustando', 'más', 'de', 'lo', 'normal', 'todos', 'mis', 'sentidos', 'van', 'pidiendo', 'más', 'esto', 'hay', 'que', 'tomarlo', 'sin', 'ningún', 'apuro', 'despacito', 'quiero', 'respirar', 'tu', 'cuello', 'despacito', 'deja', 'que', 'te', 'diga', 'cosas', 'al', 'oído', 'para', 'que', 'te', 'acuerdes', 'si', 'no', 'estás', 'conmigo', 'despacito', 'quiero', 'desnudarte', 'a', 'besos', 'despacito', 'firmo', 'en', 'las', 'paredes', 'de', 'tu', 'laberinto', 'y', 'hacer', 'de', 'tu', 'cuerpo', 'todo', 'un', 'manuscrito', 'sube', 'sube', 'sube', 'sube', 'sube', 'quiero', 'ver', 'bailar', 'tu', 'pelo', 'quiero', 'ser', 'tu', 'ritmo', 'que', 'le', 'enseñes', 'a', 'mi', 'boca', 'tus', 'lugares', 'favoritos', 'favoritos', 'favoritos', 'baby', 'déjame', 'sobrepasar', 'tus', 'zonas', 'de', 'peligro', 'hasta', 'provocar', 'tus', 'gritos', 'y', 'que', 'olvides', 'tu', 'apellido', 'diridiri', 'dirididi', 'daddy', 'si', 'te', 'pido', 'un', 'beso', 'ven', 'dámelo', 'yo', 'sé', 'que', 'estás', 'pensándolo', 'llevo', 'tiempo', 'intentándolo', 'mami', 'esto', 'es', 'dando', 'y', 'dándolo', 'sabes', 'que', 'tu', 'corazón', 'conmigo', 'te', 'hace', 'bom', 'bom', 'sabes', 'que', 'esa', 'beba', 'está', 'buscando', 'de', 'mi', 'bom', 'bom', 'ven', 'prueba', 'de', 'mi', 'boca', 'para', 'ver', 'cómo', 'te', 'sabe', 'quiero', 'quiero', 'quiero', 'ver', 'cuánto', 'amor', 'a', 'ti', 'te', 'cabe', 'yo', 'no', 'tengo', 'prisa', 'yo', 'me', 'quiero', 'dar', 'el', 'viaje', 'empecemos', 'lento', 'después', 'salvaje', 'pasito', 'a', 'pasito', 'suave', 'suavecito', 'nos', 'vamos', 'pegando', 'poquito', 'a', 'poquito', 'cuando', 'tú', 'me', 'besas', 'con', 'esa', 'destreza', 'veo', 'que', 'eres', 'malicia', 'con', 'delicadeza', 'pasito', 'a', 'pasito', 'suave', 'suavecito', 'nos', 'vamos', 'pegando', 'poquito', 'a', 'poquito', 'y', 'es', 'que', 'esa', 'belleza', 'es', 'un', 'rompecabezas', 'pero', 'pa', 'montarlo', 'aquí', 'tengo', 'la', 'pieza', 'despacito', 'quiero', 'respirar', 'tu', 'cuello', 'despacito', 'deja', 'que', 'te', 'diga', 'cosas', 'al', 'oído', 'para', 'que', 'te', 'acuerdes', 'si', 'no', 'estás', 'conmigo', 'despacito', 'quiero', 'desnudarte', 'a', 'besos', 'despacito', 'firmo', 'en', 'las', 'paredes', 'de', 'tu', 'laberinto', 'y', 'hacer', 'de', 'tu', 'cuerpo', 'todo', 'un', 'manuscrito', 'sube', 'sube', 'sube', 'sube', 'sube', 'quiero', 'ver', 'bailar', 'tu', 'pelo', 'quiero', 'ser', 'tu', 'ritmo', 'que', 'le', 'enseñes', 'a', 'mi', 'boca', 'tus', 'lugares', 'favoritos', 'favoritos', 'favoritos', 'baby', 'déjame', 'sobrepasar', 'tus', 'zonas', 'de', 'peligro', 'hasta', 'provocar', 'tus', 'gritos', 'y', 'que', 'olvides', 'tu', 'apellido', 'despacito', 'vamos', 'a', 'hacerlo', 'en', 'una', 'playa', 'en', 'puerto', 'rico', 'hasta', 'que', 'las', 'olas', 'griten', 'ay', 'bendito', 'para', 'que', 'mi', 'sello', 'se', 'quede', 'contigo', 'pasito', 'a', 'pasito', 'suave', 'suavecito', 'nos', 'vamos', 'pegando', 'poquito', 'a', 'poquito', 'que', 'le', 'enseñes', 'a', 'mi', 'boca', 'tus', 'lugares', 'favoritos', 'favoritos', 'favoritos', 'baby', 'pasito', 'a', 'pasito', 'suave', 'suavecito', 'nos', 'vamos', 'pegando', 'poquito', 'a', 'poquito', 'hasta', 'provocar', 'tus', 'gritos', 'y', 'que', 'olvides', 'tu', 'apellido', 'dy', 'despacito']\n"
     ]
    }
   ],
   "source": [
    "def split_into_words(lyrics):\n",
    "    \"\"\"\n",
    "    Split a string into lowercase words, removing all punctuation characters,\n",
    "    returning the result.\n",
    "    \"\"\"\n",
    "    result = []\n",
    "    for word in lyrics.lower().split():  # lower() convierte las palabras en minusculas\n",
    "        word = word.strip(',.;()\"¡!')  # strip() elimina del incio y del final los caracteres que le pasemos\n",
    "        result.append(word)\n",
    "    return result\n",
    "print(split_into_words(lyrics))"
   ]
  },
  {
   "cell_type": "code",
   "execution_count": 41,
   "metadata": {},
   "outputs": [
    {
     "name": "stdout",
     "output_type": "stream",
     "text": [
      "{'ay': 2, 'fonsi': 1, 'dy': 3, 'oh': 6, 'no': 5, 'yeah': 2, 'diridiri': 2, 'dirididi': 2, 'daddy': 2, 'go': 1, 'sí': 1, 'sabes': 3, 'que': 22, 'ya': 4, 'llevo': 2, 'un': 5, 'rato': 1, 'mirándote': 1, 'tengo': 3, 'bailar': 3, 'contigo': 2, 'hoy': 1, 'vi': 1, 'tu': 15, 'mirada': 1, 'estaba': 1, 'llamándome': 1, 'muéstrame': 1, 'el': 6, 'camino': 1, 'yo': 5, 'voy': 3, 'tú': 3, 'eres': 2, 'imán': 1, 'y': 9, 'soy': 1, 'metal': 1, 'me': 4, 'acercando': 1, 'armando': 1, 'plan': 1, 'solo': 1, 'con': 3, 'pensarlo': 1, 'se': 2, 'acelera': 1, 'pulso': 1, 'está': 2, 'gustando': 1, 'más': 2, 'de': 9, 'lo': 1, 'normal': 1, 'todos': 1, 'mis': 1, 'sentidos': 1, 'van': 1, 'pidiendo': 1, 'esto': 2, 'hay': 1, 'tomarlo': 1, 'sin': 1, 'ningún': 1, 'apuro': 1, 'despacito': 10, 'quiero': 12, 'respirar': 2, 'cuello': 2, 'deja': 2, 'te': 8, 'diga': 2, 'cosas': 2, 'al': 2, 'oído': 2, 'para': 4, 'acuerdes': 2, 'si': 3, 'estás': 3, 'conmigo': 3, 'desnudarte': 2, 'a': 15, 'besos': 2, 'firmo': 2, 'en': 4, 'las': 3, 'paredes': 2, 'laberinto': 2, 'hacer': 2, 'cuerpo': 2, 'todo': 2, 'manuscrito': 2, 'sube': 10, 'ver': 4, 'pelo': 2, 'ser': 2, 'ritmo': 2, 'le': 3, 'enseñes': 3, 'mi': 6, 'boca': 4, 'tus': 8, 'lugares': 3, 'favoritos': 9, 'baby': 3, 'déjame': 2, 'sobrepasar': 2, 'zonas': 2, 'peligro': 2, 'hasta': 4, 'provocar': 3, 'gritos': 3, 'olvides': 3, 'apellido': 3, 'pido': 1, 'beso': 1, 'ven': 2, 'dámelo': 1, 'sé': 1, 'pensándolo': 1, 'tiempo': 1, 'intentándolo': 1, 'mami': 1, 'es': 3, 'dando': 1, 'dándolo': 1, 'corazón': 1, 'hace': 1, 'bom': 4, 'esa': 3, 'beba': 1, 'buscando': 1, 'prueba': 1, 'cómo': 1, 'sabe': 1, 'cuánto': 1, 'amor': 1, 'ti': 1, 'cabe': 1, 'prisa': 1, 'dar': 1, 'viaje': 1, 'empecemos': 1, 'lento': 1, 'después': 1, 'salvaje': 1, 'pasito': 8, 'suave': 4, 'suavecito': 4, 'nos': 4, 'vamos': 5, 'pegando': 4, 'poquito': 8, 'cuando': 1, 'besas': 1, 'destreza': 1, 'veo': 1, 'malicia': 1, 'delicadeza': 1, 'belleza': 1, 'rompecabezas': 1, 'pero': 1, 'pa': 1, 'montarlo': 1, 'aquí': 1, 'la': 1, 'pieza': 1, 'hacerlo': 1, 'una': 1, 'playa': 1, 'puerto': 1, 'rico': 1, 'olas': 1, 'griten': 1, 'bendito': 1, 'sello': 1, 'quede': 1}\n"
     ]
    }
   ],
   "source": [
    "def words_to_frequencies(lyrics):\n",
    "    \"\"\"\n",
    "    Convert words into frequencies. Return a dictionarky whose keys are the\n",
    "    words with the frequency as the value\n",
    "    \"\"\"\n",
    "    freqs = {}\n",
    "    for word in split_into_words(lyrics):\n",
    "        if word in freqs:\n",
    "            freqs[word] += 1\n",
    "        else:\n",
    "            freqs[word] = 1\n",
    "        # Alternativa al if anterior\n",
    "        # freqs[word] = freqs.get(word, 0) + 1\n",
    "        # Otra alternativa\n",
    "        # freqs.setdefault(word, 0)\n",
    "        # freqs[word] += 1\n",
    "    return freqs\n",
    "frequencies = print(words_to_frequencies(lyrics)) "
   ]
  },
  {
   "cell_type": "code",
   "execution_count": 44,
   "metadata": {},
   "outputs": [
    {
     "ename": "AttributeError",
     "evalue": "'NoneType' object has no attribute 'values'",
     "output_type": "error",
     "traceback": [
      "\u001b[0;31m---------------------------------------------------------------------------\u001b[0m",
      "\u001b[0;31mAttributeError\u001b[0m                            Traceback (most recent call last)",
      "\u001b[0;32m<ipython-input-44-a0416777a2cb>\u001b[0m in \u001b[0;36m<module>\u001b[0;34m()\u001b[0m\n\u001b[1;32m     14\u001b[0m             \u001b[0mwords\u001b[0m\u001b[0;34m.\u001b[0m\u001b[0mappend\u001b[0m\u001b[0;34m(\u001b[0m\u001b[0mword\u001b[0m\u001b[0;34m)\u001b[0m\u001b[0;34m\u001b[0m\u001b[0m\n\u001b[1;32m     15\u001b[0m     \u001b[0;32mreturn\u001b[0m \u001b[0;34m(\u001b[0m\u001b[0mmax\u001b[0m\u001b[0;34m,\u001b[0m \u001b[0mwords\u001b[0m\u001b[0;34m)\u001b[0m\u001b[0;34m\u001b[0m\u001b[0m\n\u001b[0;32m---> 16\u001b[0;31m \u001b[0mprint\u001b[0m\u001b[0;34m(\u001b[0m\u001b[0mmost_common_words\u001b[0m\u001b[0;34m(\u001b[0m\u001b[0mfrequencies\u001b[0m\u001b[0;34m)\u001b[0m\u001b[0;34m)\u001b[0m\u001b[0;34m\u001b[0m\u001b[0m\n\u001b[0m",
      "\u001b[0;32m<ipython-input-44-a0416777a2cb>\u001b[0m in \u001b[0;36mmost_common_words\u001b[0;34m(frequencies)\u001b[0m\n\u001b[1;32m      5\u001b[0m     \u001b[0;34m*\u001b[0m \u001b[0mA\u001b[0m \u001b[0mlist\u001b[0m \u001b[0mcontaining\u001b[0m \u001b[0mthe\u001b[0m \u001b[0mwords\u001b[0m \u001b[0;32mwith\u001b[0m \u001b[0mthat\u001b[0m \u001b[0mfrequency\u001b[0m\u001b[0;34m\u001b[0m\u001b[0m\n\u001b[1;32m      6\u001b[0m     \"\"\"\n\u001b[0;32m----> 7\u001b[0;31m     \u001b[0mvalues\u001b[0m \u001b[0;34m=\u001b[0m \u001b[0mfrequencies\u001b[0m\u001b[0;34m.\u001b[0m\u001b[0mvalues\u001b[0m\u001b[0;34m(\u001b[0m\u001b[0;34m)\u001b[0m\u001b[0;34m\u001b[0m\u001b[0m\n\u001b[0m\u001b[1;32m      8\u001b[0m     \u001b[0mmaximo\u001b[0m \u001b[0;34m=\u001b[0m \u001b[0mmax\u001b[0m\u001b[0;34m(\u001b[0m\u001b[0mvalues\u001b[0m\u001b[0;34m)\u001b[0m\u001b[0;34m\u001b[0m\u001b[0m\n\u001b[1;32m      9\u001b[0m \u001b[0;34m\u001b[0m\u001b[0m\n",
      "\u001b[0;31mAttributeError\u001b[0m: 'NoneType' object has no attribute 'values'"
     ]
    }
   ],
   "source": [
    "def most_common_words(frequencies):\n",
    "    \"\"\"\n",
    "    Return a tuple containing:\n",
    "    * The number of occurences of a word in the first tuple element\n",
    "    * A list containing the words with that frequency\n",
    "    \"\"\"\n",
    "    values = frequencies.values()\n",
    "    maximo = max(values)\n",
    "    \n",
    "    words = []\n",
    "    for word, score in frequencies.items():\n",
    "        if score == max(values):\n",
    "           \n",
    "            words.append(word)\n",
    "    return (max, words)\n",
    "print(most_common_words(frequencies))\n"
   ]
  },
  {
   "cell_type": "code",
   "execution_count": 37,
   "metadata": {},
   "outputs": [],
   "source": [
    "def get_more_often_user_words(frequencies,threshold=10):\n",
    "    \"\"\"\n",
    "    Return a list of the words that are used more often, above\n",
    "    the *optional* threshold. If no threshold is passed, use 10.\n",
    "    \"\"\"\n",
    "    \n",
    "    while True:\n",
    "        score = most_common_words(frequencies)\n",
    "        if score[0] < threshold:\n",
    "            break\n",
    "        for w in score[1]:\n",
    "            del frequencies[w]\n",
    "        result.append(score)\n",
    "        \n",
    "    return result"
   ]
  },
  {
   "cell_type": "code",
   "execution_count": 38,
   "metadata": {},
   "outputs": [
    {
     "name": "stdout",
     "output_type": "stream",
     "text": [
      "Palabras más frecuentes con más de 10 apariciones.\n"
     ]
    },
    {
     "ename": "NameError",
     "evalue": "name 'values' is not defined",
     "output_type": "error",
     "traceback": [
      "\u001b[0;31m---------------------------------------------------------------------------\u001b[0m",
      "\u001b[0;31mNameError\u001b[0m                                 Traceback (most recent call last)",
      "\u001b[0;32m<ipython-input-38-2d9a45291754>\u001b[0m in \u001b[0;36m<module>\u001b[0;34m()\u001b[0m\n\u001b[1;32m      4\u001b[0m \u001b[0;34m\u001b[0m\u001b[0m\n\u001b[1;32m      5\u001b[0m \u001b[0mprint\u001b[0m\u001b[0;34m(\u001b[0m\u001b[0;34m\"Palabras más frecuentes con más de 10 apariciones.\"\u001b[0m\u001b[0;34m)\u001b[0m\u001b[0;34m\u001b[0m\u001b[0m\n\u001b[0;32m----> 6\u001b[0;31m \u001b[0mprint\u001b[0m\u001b[0;34m(\u001b[0m\u001b[0mget_more_often_user_words\u001b[0m\u001b[0;34m(\u001b[0m\u001b[0mfreqs\u001b[0m\u001b[0;34m)\u001b[0m\u001b[0;34m)\u001b[0m\u001b[0;34m\u001b[0m\u001b[0m\n\u001b[0m\u001b[1;32m      7\u001b[0m \u001b[0mprint\u001b[0m\u001b[0;34m(\u001b[0m\u001b[0;34m\"\\n\"\u001b[0m\u001b[0;34m)\u001b[0m\u001b[0;34m\u001b[0m\u001b[0m\n\u001b[1;32m      8\u001b[0m \u001b[0mprint\u001b[0m\u001b[0;34m(\u001b[0m\u001b[0;34m\"Palabras más frecuentes con más de 10 apariciones.\"\u001b[0m\u001b[0;34m)\u001b[0m\u001b[0;34m\u001b[0m\u001b[0m\n",
      "\u001b[0;32m<ipython-input-37-7b54c2fe620c>\u001b[0m in \u001b[0;36mget_more_often_user_words\u001b[0;34m(frequencies, threshold)\u001b[0m\n\u001b[1;32m      6\u001b[0m \u001b[0;34m\u001b[0m\u001b[0m\n\u001b[1;32m      7\u001b[0m     \u001b[0;32mwhile\u001b[0m \u001b[0;32mTrue\u001b[0m\u001b[0;34m:\u001b[0m\u001b[0;34m\u001b[0m\u001b[0m\n\u001b[0;32m----> 8\u001b[0;31m         \u001b[0mscore\u001b[0m \u001b[0;34m=\u001b[0m \u001b[0mmost_common_words\u001b[0m\u001b[0;34m(\u001b[0m\u001b[0mfrequencies\u001b[0m\u001b[0;34m)\u001b[0m\u001b[0;34m\u001b[0m\u001b[0m\n\u001b[0m\u001b[1;32m      9\u001b[0m         \u001b[0;32mif\u001b[0m \u001b[0mscore\u001b[0m\u001b[0;34m[\u001b[0m\u001b[0;36m0\u001b[0m\u001b[0;34m]\u001b[0m \u001b[0;34m<\u001b[0m \u001b[0mthreshold\u001b[0m\u001b[0;34m:\u001b[0m\u001b[0;34m\u001b[0m\u001b[0m\n\u001b[1;32m     10\u001b[0m             \u001b[0;32mbreak\u001b[0m\u001b[0;34m\u001b[0m\u001b[0m\n",
      "\u001b[0;32m<ipython-input-36-e50679f390c6>\u001b[0m in \u001b[0;36mmost_common_words\u001b[0;34m(frequencies)\u001b[0m\n\u001b[1;32m      5\u001b[0m     \u001b[0;34m*\u001b[0m \u001b[0mA\u001b[0m \u001b[0mlist\u001b[0m \u001b[0mcontaining\u001b[0m \u001b[0mthe\u001b[0m \u001b[0mwords\u001b[0m \u001b[0;32mwith\u001b[0m \u001b[0mthat\u001b[0m \u001b[0mfrequency\u001b[0m\u001b[0;34m\u001b[0m\u001b[0m\n\u001b[1;32m      6\u001b[0m     \"\"\"\n\u001b[0;32m----> 7\u001b[0;31m     \u001b[0mvalues\u001b[0m \u001b[0;34m==\u001b[0m \u001b[0mfrequencies\u001b[0m\u001b[0;34m.\u001b[0m\u001b[0mvalues\u001b[0m\u001b[0;34m(\u001b[0m\u001b[0;34m)\u001b[0m\u001b[0;34m\u001b[0m\u001b[0m\n\u001b[0m\u001b[1;32m      8\u001b[0m     \u001b[0mmax\u001b[0m \u001b[0;34m==\u001b[0m \u001b[0mmax\u001b[0m\u001b[0;34m(\u001b[0m\u001b[0mvalues\u001b[0m\u001b[0;34m)\u001b[0m\u001b[0;34m\u001b[0m\u001b[0m\n\u001b[1;32m      9\u001b[0m \u001b[0;34m\u001b[0m\u001b[0m\n",
      "\u001b[0;31mNameError\u001b[0m: name 'values' is not defined"
     ]
    }
   ],
   "source": [
    "words_clean = split_into_words(lyrics)\n",
    "\n",
    "freqs = words_to_frequencies(words_clean)\n",
    "\n",
    "print(\"Palabras más frecuentes con más de 10 apariciones.\")\n",
    "print(get_more_often_user_words(freqs))\n",
    "print(\"\\n\")\n",
    "print(\"Palabras más frecuentes con más de 10 apariciones.\")\n",
    "print(get_more_often_user_words(freqs, threshold=5))"
   ]
  },
  {
   "cell_type": "code",
   "execution_count": null,
   "metadata": {},
   "outputs": [],
   "source": []
  }
 ],
 "metadata": {
  "kernelspec": {
   "display_name": "Python 3",
   "language": "python",
   "name": "python3"
  },
  "language_info": {
   "codemirror_mode": {
    "name": "ipython",
    "version": 3
   },
   "file_extension": ".py",
   "mimetype": "text/x-python",
   "name": "python",
   "nbconvert_exporter": "python",
   "pygments_lexer": "ipython3",
   "version": "3.6.5"
  }
 },
 "nbformat": 4,
 "nbformat_minor": 2
}
