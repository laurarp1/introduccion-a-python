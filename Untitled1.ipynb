{
 "cells": [
  {
   "cell_type": "code",
   "execution_count": 1,
   "metadata": {},
   "outputs": [],
   "source": [
    "lyrics = \"\"\"Ay\n",
    "Fonsi\n",
    "DY\n",
    "Oh\n",
    "Oh no, oh no\n",
    "Oh yeah\n",
    "Diridiri, dirididi Daddy\n",
    "Go\n",
    "Sí, sabes que ya llevo un rato mirándote\n",
    "Tengo que bailar contigo hoy (DY)\n",
    "Vi que tu mirada ya estaba llamándome\n",
    "Muéstrame el camino que yo voy (Oh)\n",
    "Tú, tú eres el imán y yo soy el metal\n",
    "Me voy acercando y voy armando el plan\n",
    "Solo con pensarlo se acelera el pulso (Oh yeah)\n",
    "Ya, ya me está gustando más de lo normal\n",
    "Todos mis sentidos van pidiendo más\n",
    "Esto hay que tomarlo sin ningún apuro\n",
    "Despacito\n",
    "Quiero respirar tu cuello despacito\n",
    "Deja que te diga cosas al oído\n",
    "Para que te acuerdes si no estás conmigo\n",
    "Despacito\n",
    "Quiero desnudarte a besos despacito\n",
    "Firmo en las paredes de tu laberinto\n",
    "Y hacer de tu cuerpo todo un manuscrito (sube, sube, sube)\n",
    "(Sube, sube)\n",
    "Quiero ver bailar tu pelo\n",
    "Quiero ser tu ritmo\n",
    "Que le enseñes a mi boca\n",
    "Tus lugares favoritos (favoritos, favoritos baby)\n",
    "Déjame sobrepasar tus zonas de peligro\n",
    "Hasta provocar tus gritos\n",
    "Y que olvides tu apellido (Diridiri, dirididi Daddy)\n",
    "Si te pido un beso ven dámelo\n",
    "Yo sé que estás pensándolo\n",
    "Llevo tiempo intentándolo\n",
    "Mami, esto es dando y dándolo\n",
    "Sabes que tu corazón conmigo te hace bom, bom\n",
    "Sabes que esa beba está buscando de mi bom, bom\n",
    "Ven prueba de mi boca para ver cómo te sabe\n",
    "Quiero, quiero, quiero ver cuánto amor a ti te cabe\n",
    "Yo no tengo prisa, yo me quiero dar el viaje\n",
    "Empecemos lento, después salvaje\n",
    "Pasito a pasito, suave suavecito\n",
    "Nos vamos pegando poquito a poquito\n",
    "Cuando tú me besas con esa destreza\n",
    "Veo que eres malicia con delicadeza\n",
    "Pasito a pasito, suave suavecito\n",
    "Nos vamos pegando, poquito a poquito\n",
    "Y es que esa belleza es un rompecabezas\n",
    "Pero pa montarlo aquí tengo la pieza\n",
    "Despacito\n",
    "Quiero respirar tu cuello despacito\n",
    "Deja que te diga cosas al oído\n",
    "Para que te acuerdes si no estás conmigo\n",
    "Despacito\n",
    "Quiero desnudarte a besos despacito\n",
    "Firmo en las paredes de tu laberinto\n",
    "Y hacer de tu cuerpo todo un manuscrito (sube, sube, sube)\n",
    "(Sube, sube)\n",
    "Quiero ver bailar tu pelo\n",
    "Quiero ser tu ritmo\n",
    "Que le enseñes a mi boca\n",
    "Tus lugares favoritos (favoritos, favoritos baby)\n",
    "Déjame sobrepasar tus zonas de peligro\n",
    "Hasta provocar tus gritos\n",
    "Y que olvides tu apellido\n",
    "Despacito\n",
    "Vamos a hacerlo en una playa en Puerto Rico\n",
    "Hasta que las olas griten \"¡ay, bendito!\"\n",
    "Para que mi sello se quede contigo\n",
    "Pasito a pasito, suave suavecito\n",
    "Nos vamos pegando, poquito a poquito\n",
    "Que le enseñes a mi boca\n",
    "Tus lugares favoritos (favoritos, favoritos baby)\n",
    "Pasito a pasito, suave suavecito\n",
    "Nos vamos pegando, poquito a poquito\n",
    "Hasta provocar tus gritos\n",
    "Y que olvides tu apellido (DY)\n",
    "Despacito\n",
    "\"\"\""
   ]
  },
  {
   "cell_type": "code",
   "execution_count": 2,
   "metadata": {},
   "outputs": [
    {
     "name": "stdout",
     "output_type": "stream",
     "text": [
      "['ay', 'fonsi', 'dy', 'oh', 'oh', 'no', 'oh', 'no', 'oh', 'yeah', 'diridiri', 'dirididi', 'daddy', 'go', 'sí', 'sabes', 'que', 'ya', 'llevo', 'un', 'rato', 'mirándote', 'tengo', 'que', 'bailar', 'contigo', 'hoy', 'dy', 'vi', 'que', 'tu', 'mirada', 'ya', 'estaba', 'llamándome', 'muéstrame', 'el', 'camino', 'que', 'yo', 'voy', 'oh', 'tú', 'tú', 'eres', 'el', 'imán', 'y', 'yo', 'soy', 'el', 'metal', 'me', 'voy', 'acercando', 'y', 'voy', 'armando', 'el', 'plan', 'solo', 'con', 'pensarlo', 'se', 'acelera', 'el', 'pulso', 'oh', 'yeah', 'ya', 'ya', 'me', 'está', 'gustando', 'más', 'de', 'lo', 'normal', 'todos', 'mis', 'sentidos', 'van', 'pidiendo', 'más', 'esto', 'hay', 'que', 'tomarlo', 'sin', 'ningún', 'apuro', 'despacito', 'quiero', 'respirar', 'tu', 'cuello', 'despacito', 'deja', 'que', 'te', 'diga', 'cosas', 'al', 'oído', 'para', 'que', 'te', 'acuerdes', 'si', 'no', 'estás', 'conmigo', 'despacito', 'quiero', 'desnudarte', 'a', 'besos', 'despacito', 'firmo', 'en', 'las', 'paredes', 'de', 'tu', 'laberinto', 'y', 'hacer', 'de', 'tu', 'cuerpo', 'todo', 'un', 'manuscrito', 'sube', 'sube', 'sube', 'sube', 'sube', 'quiero', 'ver', 'bailar', 'tu', 'pelo', 'quiero', 'ser', 'tu', 'ritmo', 'que', 'le', 'enseñes', 'a', 'mi', 'boca', 'tus', 'lugares', 'favoritos', 'favoritos', 'favoritos', 'baby', 'déjame', 'sobrepasar', 'tus', 'zonas', 'de', 'peligro', 'hasta', 'provocar', 'tus', 'gritos', 'y', 'que', 'olvides', 'tu', 'apellido', 'diridiri', 'dirididi', 'daddy', 'si', 'te', 'pido', 'un', 'beso', 'ven', 'dámelo', 'yo', 'sé', 'que', 'estás', 'pensándolo', 'llevo', 'tiempo', 'intentándolo', 'mami', 'esto', 'es', 'dando', 'y', 'dándolo', 'sabes', 'que', 'tu', 'corazón', 'conmigo', 'te', 'hace', 'bom', 'bom', 'sabes', 'que', 'esa', 'beba', 'está', 'buscando', 'de', 'mi', 'bom', 'bom', 'ven', 'prueba', 'de', 'mi', 'boca', 'para', 'ver', 'cómo', 'te', 'sabe', 'quiero', 'quiero', 'quiero', 'ver', 'cuánto', 'amor', 'a', 'ti', 'te', 'cabe', 'yo', 'no', 'tengo', 'prisa', 'yo', 'me', 'quiero', 'dar', 'el', 'viaje', 'empecemos', 'lento', 'después', 'salvaje', 'pasito', 'a', 'pasito', 'suave', 'suavecito', 'nos', 'vamos', 'pegando', 'poquito', 'a', 'poquito', 'cuando', 'tú', 'me', 'besas', 'con', 'esa', 'destreza', 'veo', 'que', 'eres', 'malicia', 'con', 'delicadeza', 'pasito', 'a', 'pasito', 'suave', 'suavecito', 'nos', 'vamos', 'pegando', 'poquito', 'a', 'poquito', 'y', 'es', 'que', 'esa', 'belleza', 'es', 'un', 'rompecabezas', 'pero', 'pa', 'montarlo', 'aquí', 'tengo', 'la', 'pieza', 'despacito', 'quiero', 'respirar', 'tu', 'cuello', 'despacito', 'deja', 'que', 'te', 'diga', 'cosas', 'al', 'oído', 'para', 'que', 'te', 'acuerdes', 'si', 'no', 'estás', 'conmigo', 'despacito', 'quiero', 'desnudarte', 'a', 'besos', 'despacito', 'firmo', 'en', 'las', 'paredes', 'de', 'tu', 'laberinto', 'y', 'hacer', 'de', 'tu', 'cuerpo', 'todo', 'un', 'manuscrito', 'sube', 'sube', 'sube', 'sube', 'sube', 'quiero', 'ver', 'bailar', 'tu', 'pelo', 'quiero', 'ser', 'tu', 'ritmo', 'que', 'le', 'enseñes', 'a', 'mi', 'boca', 'tus', 'lugares', 'favoritos', 'favoritos', 'favoritos', 'baby', 'déjame', 'sobrepasar', 'tus', 'zonas', 'de', 'peligro', 'hasta', 'provocar', 'tus', 'gritos', 'y', 'que', 'olvides', 'tu', 'apellido', 'despacito', 'vamos', 'a', 'hacerlo', 'en', 'una', 'playa', 'en', 'puerto', 'rico', 'hasta', 'que', 'las', 'olas', 'griten', 'ay', 'bendito', 'para', 'que', 'mi', 'sello', 'se', 'quede', 'contigo', 'pasito', 'a', 'pasito', 'suave', 'suavecito', 'nos', 'vamos', 'pegando', 'poquito', 'a', 'poquito', 'que', 'le', 'enseñes', 'a', 'mi', 'boca', 'tus', 'lugares', 'favoritos', 'favoritos', 'favoritos', 'baby', 'pasito', 'a', 'pasito', 'suave', 'suavecito', 'nos', 'vamos', 'pegando', 'poquito', 'a', 'poquito', 'hasta', 'provocar', 'tus', 'gritos', 'y', 'que', 'olvides', 'tu', 'apellido', 'dy', 'despacito']\n"
     ]
    }
   ],
   "source": [
    "def split_into_words(lyrics):\n",
    "    \"\"\"\n",
    "    Split a string into lowercase words, removing all punctuation characters,\n",
    "    returning the result.\n",
    "    \"\"\"\n",
    "    result = []\n",
    "    for word in lyrics.lower().split():  # lower() convierte las palabras en minusculas\n",
    "        word = word.strip(',.;()\"¡!')  # strip() elimina del incio y del final los caracteres que le pasemos\n",
    "        result.append(word)\n",
    "    return result\n",
    "print(split_into_words(lyrics))"
   ]
  },
  {
   "cell_type": "code",
   "execution_count": 3,
   "metadata": {},
   "outputs": [
    {
     "ename": "SyntaxError",
     "evalue": "invalid syntax (<ipython-input-3-4990c57144b6>, line 1)",
     "output_type": "error",
     "traceback": [
      "\u001b[0;36m  File \u001b[0;32m\"<ipython-input-3-4990c57144b6>\"\u001b[0;36m, line \u001b[0;32m1\u001b[0m\n\u001b[0;31m    def words_to_frequencies(split_into_words(lyrics)):\u001b[0m\n\u001b[0m                                             ^\u001b[0m\n\u001b[0;31mSyntaxError\u001b[0m\u001b[0;31m:\u001b[0m invalid syntax\n"
     ]
    }
   ],
   "source": [
    "def words_to_frequencies(split_into_words(lyrics)):\n",
    "    \"\"\"\n",
    "    Convert words into frequencies. Return a dictionarky whose keys are the\n",
    "    words with the frequency as the value\n",
    "    \"\"\"\n",
    "    freqs = {}\n",
    "    for word in split_into_words(lyrics):\n",
    "        if word in freqs:\n",
    "            freqs[word] += 1\n",
    "        else:\n",
    "            freqs[word] = 1\n",
    "        # Alternativa al if anterior\n",
    "        # freqs[word] = freqs.get(word, 0) + 1\n",
    "        # Otra alternativa\n",
    "        # freqs.setdefault(word, 0)\n",
    "        # freqs[word] += 1\n",
    "    return freqs\n",
    "print(words_to_frequencies(spit_into_words(lyrics)))"
   ]
  },
  {
   "cell_type": "code",
   "execution_count": null,
   "metadata": {},
   "outputs": [],
   "source": []
  }
 ],
 "metadata": {
  "kernelspec": {
   "display_name": "Python 3",
   "language": "python",
   "name": "python3"
  },
  "language_info": {
   "codemirror_mode": {
    "name": "ipython",
    "version": 3
   },
   "file_extension": ".py",
   "mimetype": "text/x-python",
   "name": "python",
   "nbconvert_exporter": "python",
   "pygments_lexer": "ipython3",
   "version": "3.6.5"
  }
 },
 "nbformat": 4,
 "nbformat_minor": 2
}
